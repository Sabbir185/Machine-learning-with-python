{
 "cells": [
  {
   "cell_type": "code",
   "execution_count": 1,
   "id": "9f12bfb2",
   "metadata": {},
   "outputs": [],
   "source": [
    "from sklearn.datasets import make_classification\n",
    "x, y = make_classification(n_samples=50000)"
   ]
  },
  {
   "cell_type": "code",
   "execution_count": 2,
   "id": "04f59f73",
   "metadata": {},
   "outputs": [
    {
     "data": {
      "text/plain": [
       "(50000, 20)"
      ]
     },
     "execution_count": 2,
     "metadata": {},
     "output_type": "execute_result"
    }
   ],
   "source": [
    "x.shape"
   ]
  },
  {
   "cell_type": "code",
   "execution_count": 3,
   "id": "a973a833",
   "metadata": {},
   "outputs": [
    {
     "data": {
      "text/plain": [
       "(50000,)"
      ]
     },
     "execution_count": 3,
     "metadata": {},
     "output_type": "execute_result"
    }
   ],
   "source": [
    "y.shape"
   ]
  },
  {
   "cell_type": "code",
   "execution_count": 4,
   "id": "62bacebf",
   "metadata": {},
   "outputs": [],
   "source": [
    "import pandas as pd\n",
    "features = pd.DataFrame(x)\n",
    "classes = pd.DataFrame(y)"
   ]
  },
  {
   "cell_type": "code",
   "execution_count": 5,
   "id": "7fdc58c6",
   "metadata": {},
   "outputs": [
    {
     "data": {
      "text/html": [
       "<div>\n",
       "<style scoped>\n",
       "    .dataframe tbody tr th:only-of-type {\n",
       "        vertical-align: middle;\n",
       "    }\n",
       "\n",
       "    .dataframe tbody tr th {\n",
       "        vertical-align: top;\n",
       "    }\n",
       "\n",
       "    .dataframe thead th {\n",
       "        text-align: right;\n",
       "    }\n",
       "</style>\n",
       "<table border=\"1\" class=\"dataframe\">\n",
       "  <thead>\n",
       "    <tr style=\"text-align: right;\">\n",
       "      <th></th>\n",
       "      <th>0</th>\n",
       "      <th>1</th>\n",
       "      <th>2</th>\n",
       "      <th>3</th>\n",
       "      <th>4</th>\n",
       "      <th>5</th>\n",
       "      <th>6</th>\n",
       "      <th>7</th>\n",
       "      <th>8</th>\n",
       "      <th>9</th>\n",
       "      <th>10</th>\n",
       "      <th>11</th>\n",
       "      <th>12</th>\n",
       "      <th>13</th>\n",
       "      <th>14</th>\n",
       "      <th>15</th>\n",
       "      <th>16</th>\n",
       "      <th>17</th>\n",
       "      <th>18</th>\n",
       "      <th>19</th>\n",
       "    </tr>\n",
       "  </thead>\n",
       "  <tbody>\n",
       "    <tr>\n",
       "      <th>8929</th>\n",
       "      <td>-1.645388</td>\n",
       "      <td>-0.466814</td>\n",
       "      <td>0.713392</td>\n",
       "      <td>1.339488</td>\n",
       "      <td>-0.149242</td>\n",
       "      <td>0.644607</td>\n",
       "      <td>0.690289</td>\n",
       "      <td>-1.286717</td>\n",
       "      <td>1.343733</td>\n",
       "      <td>0.240514</td>\n",
       "      <td>-1.523323</td>\n",
       "      <td>-0.171460</td>\n",
       "      <td>-0.156256</td>\n",
       "      <td>-2.039735</td>\n",
       "      <td>0.247633</td>\n",
       "      <td>-0.749675</td>\n",
       "      <td>0.837948</td>\n",
       "      <td>0.909580</td>\n",
       "      <td>0.462409</td>\n",
       "      <td>1.374940</td>\n",
       "    </tr>\n",
       "    <tr>\n",
       "      <th>44364</th>\n",
       "      <td>1.938579</td>\n",
       "      <td>1.391293</td>\n",
       "      <td>-0.177324</td>\n",
       "      <td>2.250935</td>\n",
       "      <td>-1.215467</td>\n",
       "      <td>1.373980</td>\n",
       "      <td>-0.694325</td>\n",
       "      <td>-1.383585</td>\n",
       "      <td>0.152447</td>\n",
       "      <td>-0.725337</td>\n",
       "      <td>2.151166</td>\n",
       "      <td>0.377863</td>\n",
       "      <td>0.471931</td>\n",
       "      <td>-1.697665</td>\n",
       "      <td>-0.625886</td>\n",
       "      <td>0.002828</td>\n",
       "      <td>-0.969516</td>\n",
       "      <td>0.831729</td>\n",
       "      <td>-1.397835</td>\n",
       "      <td>0.080024</td>\n",
       "    </tr>\n",
       "    <tr>\n",
       "      <th>35370</th>\n",
       "      <td>-1.555549</td>\n",
       "      <td>-1.069383</td>\n",
       "      <td>-0.591687</td>\n",
       "      <td>0.298362</td>\n",
       "      <td>-0.665915</td>\n",
       "      <td>0.300463</td>\n",
       "      <td>-0.119318</td>\n",
       "      <td>1.036186</td>\n",
       "      <td>-2.184511</td>\n",
       "      <td>0.647949</td>\n",
       "      <td>-0.190205</td>\n",
       "      <td>0.782172</td>\n",
       "      <td>-0.428886</td>\n",
       "      <td>-0.312575</td>\n",
       "      <td>0.391130</td>\n",
       "      <td>2.423133</td>\n",
       "      <td>1.604971</td>\n",
       "      <td>-0.261779</td>\n",
       "      <td>1.283475</td>\n",
       "      <td>0.260401</td>\n",
       "    </tr>\n",
       "    <tr>\n",
       "      <th>23285</th>\n",
       "      <td>0.368179</td>\n",
       "      <td>0.893654</td>\n",
       "      <td>0.898225</td>\n",
       "      <td>-0.163339</td>\n",
       "      <td>0.662403</td>\n",
       "      <td>1.244384</td>\n",
       "      <td>-0.874566</td>\n",
       "      <td>0.631243</td>\n",
       "      <td>0.122211</td>\n",
       "      <td>-0.485420</td>\n",
       "      <td>0.426200</td>\n",
       "      <td>0.097003</td>\n",
       "      <td>0.317409</td>\n",
       "      <td>1.071575</td>\n",
       "      <td>1.357410</td>\n",
       "      <td>0.248368</td>\n",
       "      <td>1.614799</td>\n",
       "      <td>-0.915809</td>\n",
       "      <td>-0.942985</td>\n",
       "      <td>-0.462890</td>\n",
       "    </tr>\n",
       "    <tr>\n",
       "      <th>39891</th>\n",
       "      <td>1.067894</td>\n",
       "      <td>1.132294</td>\n",
       "      <td>-0.007269</td>\n",
       "      <td>-1.685251</td>\n",
       "      <td>-0.298069</td>\n",
       "      <td>-0.273998</td>\n",
       "      <td>1.236760</td>\n",
       "      <td>-0.302235</td>\n",
       "      <td>-0.326966</td>\n",
       "      <td>-0.615629</td>\n",
       "      <td>-0.184842</td>\n",
       "      <td>-2.126403</td>\n",
       "      <td>0.402596</td>\n",
       "      <td>-0.523586</td>\n",
       "      <td>0.309060</td>\n",
       "      <td>-0.225405</td>\n",
       "      <td>0.659638</td>\n",
       "      <td>-1.464647</td>\n",
       "      <td>-1.196147</td>\n",
       "      <td>-0.981924</td>\n",
       "    </tr>\n",
       "  </tbody>\n",
       "</table>\n",
       "</div>"
      ],
      "text/plain": [
       "             0         1         2         3         4         5         6   \\\n",
       "8929  -1.645388 -0.466814  0.713392  1.339488 -0.149242  0.644607  0.690289   \n",
       "44364  1.938579  1.391293 -0.177324  2.250935 -1.215467  1.373980 -0.694325   \n",
       "35370 -1.555549 -1.069383 -0.591687  0.298362 -0.665915  0.300463 -0.119318   \n",
       "23285  0.368179  0.893654  0.898225 -0.163339  0.662403  1.244384 -0.874566   \n",
       "39891  1.067894  1.132294 -0.007269 -1.685251 -0.298069 -0.273998  1.236760   \n",
       "\n",
       "             7         8         9         10        11        12        13  \\\n",
       "8929  -1.286717  1.343733  0.240514 -1.523323 -0.171460 -0.156256 -2.039735   \n",
       "44364 -1.383585  0.152447 -0.725337  2.151166  0.377863  0.471931 -1.697665   \n",
       "35370  1.036186 -2.184511  0.647949 -0.190205  0.782172 -0.428886 -0.312575   \n",
       "23285  0.631243  0.122211 -0.485420  0.426200  0.097003  0.317409  1.071575   \n",
       "39891 -0.302235 -0.326966 -0.615629 -0.184842 -2.126403  0.402596 -0.523586   \n",
       "\n",
       "             14        15        16        17        18        19  \n",
       "8929   0.247633 -0.749675  0.837948  0.909580  0.462409  1.374940  \n",
       "44364 -0.625886  0.002828 -0.969516  0.831729 -1.397835  0.080024  \n",
       "35370  0.391130  2.423133  1.604971 -0.261779  1.283475  0.260401  \n",
       "23285  1.357410  0.248368  1.614799 -0.915809 -0.942985 -0.462890  \n",
       "39891  0.309060 -0.225405  0.659638 -1.464647 -1.196147 -0.981924  "
      ]
     },
     "execution_count": 5,
     "metadata": {},
     "output_type": "execute_result"
    }
   ],
   "source": [
    "features.sample(5)"
   ]
  },
  {
   "cell_type": "code",
   "execution_count": 6,
   "id": "70c9a306",
   "metadata": {},
   "outputs": [
    {
     "data": {
      "text/html": [
       "<div>\n",
       "<style scoped>\n",
       "    .dataframe tbody tr th:only-of-type {\n",
       "        vertical-align: middle;\n",
       "    }\n",
       "\n",
       "    .dataframe tbody tr th {\n",
       "        vertical-align: top;\n",
       "    }\n",
       "\n",
       "    .dataframe thead th {\n",
       "        text-align: right;\n",
       "    }\n",
       "</style>\n",
       "<table border=\"1\" class=\"dataframe\">\n",
       "  <thead>\n",
       "    <tr style=\"text-align: right;\">\n",
       "      <th></th>\n",
       "      <th>0</th>\n",
       "    </tr>\n",
       "  </thead>\n",
       "  <tbody>\n",
       "    <tr>\n",
       "      <th>5006</th>\n",
       "      <td>1</td>\n",
       "    </tr>\n",
       "    <tr>\n",
       "      <th>24976</th>\n",
       "      <td>1</td>\n",
       "    </tr>\n",
       "    <tr>\n",
       "      <th>37953</th>\n",
       "      <td>1</td>\n",
       "    </tr>\n",
       "  </tbody>\n",
       "</table>\n",
       "</div>"
      ],
      "text/plain": [
       "       0\n",
       "5006   1\n",
       "24976  1\n",
       "37953  1"
      ]
     },
     "execution_count": 6,
     "metadata": {},
     "output_type": "execute_result"
    }
   ],
   "source": [
    "classes.sample(3)"
   ]
  },
  {
   "cell_type": "code",
   "execution_count": 7,
   "id": "512acac4",
   "metadata": {},
   "outputs": [],
   "source": [
    "from sklearn.model_selection import train_test_split\n",
    "xtrain, xtest, ytrain, ytest = train_test_split(x, y, train_size=0.65, random_state=1)"
   ]
  },
  {
   "cell_type": "code",
   "execution_count": 8,
   "id": "cd0b8cbd",
   "metadata": {},
   "outputs": [
    {
     "data": {
      "text/plain": [
       "(32500, 20)"
      ]
     },
     "execution_count": 8,
     "metadata": {},
     "output_type": "execute_result"
    }
   ],
   "source": [
    "xtrain.shape"
   ]
  },
  {
   "cell_type": "code",
   "execution_count": 9,
   "id": "8c93ce79",
   "metadata": {},
   "outputs": [
    {
     "data": {
      "text/plain": [
       "(17500, 20)"
      ]
     },
     "execution_count": 9,
     "metadata": {},
     "output_type": "execute_result"
    }
   ],
   "source": [
    "xtest.shape"
   ]
  },
  {
   "cell_type": "code",
   "execution_count": 10,
   "id": "4f38eb39",
   "metadata": {},
   "outputs": [],
   "source": [
    "train_scores = []\n",
    "test_scores = []\n",
    "\n",
    "depth = [ n for n in range(1, 21) ]"
   ]
  },
  {
   "cell_type": "code",
   "execution_count": 11,
   "id": "8d64952a",
   "metadata": {},
   "outputs": [],
   "source": [
    "from sklearn.tree import DecisionTreeClassifier"
   ]
  },
  {
   "cell_type": "code",
   "execution_count": 12,
   "id": "0f2d4a1c",
   "metadata": {},
   "outputs": [
    {
     "name": "stdout",
     "output_type": "stream",
     "text": [
      "depth = 1, test_accuracy = 0.901, train_accuracy = 0.899\n",
      "depth = 2, test_accuracy = 0.901, train_accuracy = 0.899\n",
      "depth = 3, test_accuracy = 0.930, train_accuracy = 0.929\n",
      "depth = 4, test_accuracy = 0.933, train_accuracy = 0.934\n",
      "depth = 5, test_accuracy = 0.937, train_accuracy = 0.937\n",
      "depth = 6, test_accuracy = 0.941, train_accuracy = 0.945\n",
      "depth = 7, test_accuracy = 0.944, train_accuracy = 0.951\n",
      "depth = 8, test_accuracy = 0.943, train_accuracy = 0.955\n",
      "depth = 9, test_accuracy = 0.942, train_accuracy = 0.960\n",
      "depth = 10, test_accuracy = 0.940, train_accuracy = 0.964\n",
      "depth = 11, test_accuracy = 0.938, train_accuracy = 0.968\n",
      "depth = 12, test_accuracy = 0.936, train_accuracy = 0.972\n",
      "depth = 13, test_accuracy = 0.936, train_accuracy = 0.977\n",
      "depth = 14, test_accuracy = 0.935, train_accuracy = 0.980\n",
      "depth = 15, test_accuracy = 0.933, train_accuracy = 0.983\n",
      "depth = 16, test_accuracy = 0.932, train_accuracy = 0.986\n",
      "depth = 17, test_accuracy = 0.932, train_accuracy = 0.988\n",
      "depth = 18, test_accuracy = 0.928, train_accuracy = 0.990\n",
      "depth = 19, test_accuracy = 0.927, train_accuracy = 0.992\n",
      "depth = 20, test_accuracy = 0.927, train_accuracy = 0.993\n"
     ]
    }
   ],
   "source": [
    "for x in (depth):\n",
    "    dt = DecisionTreeClassifier(max_depth=x)\n",
    "    dt.fit(xtrain, ytrain)\n",
    "    \n",
    "    #train_accuracy\n",
    "    train_prediction = dt.predict(xtrain)\n",
    "    train_accuracy = dt.score(xtrain, ytrain)\n",
    "    train_scores.append(train_accuracy)\n",
    "    \n",
    "    #testing_accuracy\n",
    "    test_prediction = dt.predict(xtest)\n",
    "    test_accuracy = dt.score(xtest, ytest)\n",
    "    test_scores.append(test_accuracy)\n",
    "    \n",
    "    print(f'depth = {x}, test_accuracy = {test_accuracy:.3f}, train_accuracy = {train_accuracy:.3f}')"
   ]
  },
  {
   "cell_type": "code",
   "execution_count": 13,
   "id": "b38f53d6",
   "metadata": {},
   "outputs": [
    {
     "data": {
      "text/plain": [
       "[0.8988615384615385,\n",
       " 0.8988615384615385,\n",
       " 0.9293230769230769,\n",
       " 0.9343384615384616,\n",
       " 0.9372307692307692,\n",
       " 0.9452,\n",
       " 0.9514461538461538,\n",
       " 0.9551384615384615,\n",
       " 0.9600615384615384,\n",
       " 0.9638153846153846,\n",
       " 0.9677846153846154,\n",
       " 0.9720615384615384,\n",
       " 0.9769538461538462,\n",
       " 0.9799076923076923,\n",
       " 0.9831076923076923,\n",
       " 0.9857538461538462,\n",
       " 0.988,\n",
       " 0.9897846153846154,\n",
       " 0.9917846153846154,\n",
       " 0.9932923076923077]"
      ]
     },
     "execution_count": 13,
     "metadata": {},
     "output_type": "execute_result"
    }
   ],
   "source": [
    "train_scores"
   ]
  },
  {
   "cell_type": "code",
   "execution_count": 14,
   "id": "708694f3",
   "metadata": {},
   "outputs": [
    {
     "data": {
      "text/plain": [
       "[0.9010857142857143,\n",
       " 0.9010857142857143,\n",
       " 0.9296,\n",
       " 0.9334285714285714,\n",
       " 0.9366857142857142,\n",
       " 0.9409142857142857,\n",
       " 0.9439428571428572,\n",
       " 0.9428,\n",
       " 0.9422857142857143,\n",
       " 0.9404571428571429,\n",
       " 0.9377714285714286,\n",
       " 0.9357714285714286,\n",
       " 0.9362857142857143,\n",
       " 0.9347428571428571,\n",
       " 0.9334857142857143,\n",
       " 0.9319428571428572,\n",
       " 0.9315428571428571,\n",
       " 0.9282857142857143,\n",
       " 0.9268571428571428,\n",
       " 0.9270285714285714]"
      ]
     },
     "execution_count": 14,
     "metadata": {},
     "output_type": "execute_result"
    }
   ],
   "source": [
    "test_scores"
   ]
  },
  {
   "cell_type": "code",
   "execution_count": 19,
   "id": "5b4e239a",
   "metadata": {},
   "outputs": [
    {
     "data": {
      "text/plain": [
       "[<matplotlib.lines.Line2D at 0x16538d3f4f0>]"
      ]
     },
     "execution_count": 19,
     "metadata": {},
     "output_type": "execute_result"
    },
    {
     "data": {
      "image/png": "[encoded data removed]",
      "text/plain": [
       "<Figure size 432x288 with 1 Axes>"
      ]
     },
     "metadata": {
      "needs_background": "light"
     },
     "output_type": "display_data"
    }
   ],
   "source": [
    "from matplotlib import pyplot\n",
    "\n",
    "pyplot.plot(depth, train_scores, marker=\"o\")\n",
    "pyplot.plot(depth, test_scores, marker=\"o\")"
   ]
  },
  {
   "cell_type": "code",
   "execution_count": null,
   "id": "e4b2fa0e",
   "metadata": {},
   "outputs": [],
   "source": []
  }
 ],
 "metadata": {
  "kernelspec": {
   "display_name": "Python 3 (ipykernel)",
   "language": "python",
   "name": "python3"
  },
  "language_info": {
   "codemirror_mode": {
    "name": "ipython",
    "version": 3
   },
   "file_extension": ".py",
   "mimetype": "text/x-python",
   "name": "python",
   "nbconvert_exporter": "python",
   "pygments_lexer": "ipython3",
   "version": "3.9.10"
  }
 },
 "nbformat": 4,
 "nbformat_minor": 5
}
